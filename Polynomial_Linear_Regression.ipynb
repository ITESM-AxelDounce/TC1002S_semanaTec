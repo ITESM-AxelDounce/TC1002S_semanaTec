{
  "nbformat": 4,
  "nbformat_minor": 0,
  "metadata": {
    "colab": {
      "provenance": []
    },
    "kernelspec": {
      "name": "python3",
      "display_name": "Python 3"
    },
    "language_info": {
      "name": "python"
    }
  },
  "cells": [
    {
      "cell_type": "markdown",
      "source": [
        "# Polynomial Linear Regression"
      ],
      "metadata": {
        "id": "7tnVHzGwbcrf"
      }
    },
    {
      "cell_type": "markdown",
      "source": [
        "Importamos las librerías de sklearn:"
      ],
      "metadata": {
        "id": "4STsZfmrbnf_"
      }
    },
    {
      "cell_type": "markdown",
      "source": [
        "*   Empezamos con las funciones de regresión lineal\n",
        "\n"
      ],
      "metadata": {
        "id": "nBGd5lDQb3KW"
      }
    },
    {
      "cell_type": "code",
      "source": [
        "from sklearn.linear_model import LinearRegression"
      ],
      "metadata": {
        "id": "Dk_GD2pEbvtb"
      },
      "execution_count": 1,
      "outputs": []
    },
    {
      "cell_type": "markdown",
      "source": [
        "*   Luego las herramientoas para el preprocesamiento polinomial\n",
        "\n"
      ],
      "metadata": {
        "id": "RQ-Rt4mpb_lD"
      }
    },
    {
      "cell_type": "code",
      "source": [
        "from sklearn.preprocessing import PolynomialFeatures"
      ],
      "metadata": {
        "id": "6-F7bxD5bymt"
      },
      "execution_count": 2,
      "outputs": []
    },
    {
      "cell_type": "code",
      "source": [
        "Aquí importamos otras bibliotecas pertinentes que ya se han utilizado con anterioridad."
      ],
      "metadata": {
        "id": "iO8T0zDLcGj0"
      },
      "execution_count": null,
      "outputs": []
    },
    {
      "cell_type": "code",
      "execution_count": 3,
      "metadata": {
        "id": "-C69eCQ0U5AO"
      },
      "outputs": [],
      "source": [
        "import pandas as pd\n",
        "import numpy as np\n",
        "import matplotlib.pyplot as plt\n",
        "import seaborn as sns"
      ]
    },
    {
      "cell_type": "markdown",
      "source": [
        "## Cargar datos\n",
        "\n",
        "Usamos pandas para cargar nuestros datos CSV. Y sacamos nuestras variables que queremos observar alguna relación."
      ],
      "metadata": {
        "id": "aU9Zq9g9cSed"
      }
    },
    {
      "cell_type": "code",
      "source": [
        "df = pd.read_csv(\"peso_estatura_genero.csv\")"
      ],
      "metadata": {
        "id": "KYwlXgzkVa_5"
      },
      "execution_count": 4,
      "outputs": []
    },
    {
      "cell_type": "markdown",
      "source": [
        "Para este caso, nuestra variable \"X\" es del peso, y nuestra variable \"Y\" es Estatura.\n",
        "Cada variable lña convertimos a numpy.\n",
        "También es necesario convertir la variable \"X\" a un arreglo de dos dimensiones."
      ],
      "metadata": {
        "id": "J1Kv5z9tchX4"
      }
    },
    {
      "cell_type": "code",
      "source": [
        "x = df[\"Peso\"].to_numpy().reshape((-1,1))\n",
        "y = df[\"Estatura\"].to_numpy()"
      ],
      "metadata": {
        "id": "NVraMnFdWHom"
      },
      "execution_count": 5,
      "outputs": []
    },
    {
      "cell_type": "markdown",
      "source": [
        "Creamos nuestro modelo de preprocesamiento polinomial, especificando el grado del polinomio (grado 2):"
      ],
      "metadata": {
        "id": "C7kVfg97c1uw"
      }
    },
    {
      "cell_type": "code",
      "source": [
        "polynomial = PolynomialFeatures(degree=2,include_bias=False)"
      ],
      "metadata": {
        "id": "CyEJy13PVo-0"
      },
      "execution_count": 6,
      "outputs": []
    },
    {
      "cell_type": "code",
      "source": [
        "Creamos nuestro Dominio (variable X) prerpocesado, es decir, creamos una \"X\" linealizado a partir de un modelo polinomial:"
      ],
      "metadata": {
        "id": "0_r807doc91a"
      },
      "execution_count": null,
      "outputs": []
    },
    {
      "cell_type": "code",
      "source": [
        "polynomial_x = polynomial.fit_transform(x)"
      ],
      "metadata": {
        "id": "56QDAnirV6ZL"
      },
      "execution_count": 7,
      "outputs": []
    },
    {
      "cell_type": "markdown",
      "source": [
        "Después creamos nuestro modelo de regresón lineal como visto anteriormente, pero esta vez usamos nuestra nueva variable \"X\" linelizada."
      ],
      "metadata": {
        "id": "uCM06F7FdNvj"
      }
    },
    {
      "cell_type": "code",
      "source": [
        "model_linear = LinearRegression()\n",
        "model_linear.fit(polynomial_x,y)"
      ],
      "metadata": {
        "id": "tKsutZEMWb4S"
      },
      "execution_count": null,
      "outputs": []
    },
    {
      "cell_type": "markdown",
      "source": [
        "Y entonces calculamos nuesstro resultado de la regresión lineal con una nueva variable \"Y\":"
      ],
      "metadata": {
        "id": "2XR-xoK2daoI"
      }
    },
    {
      "cell_type": "code",
      "source": [
        "y2 = model_linear.predict(polynomial_x)"
      ],
      "metadata": {
        "id": "fAZNljK1XAgG"
      },
      "execution_count": 9,
      "outputs": []
    },
    {
      "cell_type": "markdown",
      "source": [
        "Calculamos el Score, y vemos que el modelo se ajusta adecuadamente."
      ],
      "metadata": {
        "id": "xSBRIdSodhsP"
      }
    },
    {
      "cell_type": "code",
      "source": [
        "model_linear.score(polynomial_x,y)"
      ],
      "metadata": {
        "id": "vnwm10dyYcAo"
      },
      "execution_count": null,
      "outputs": []
    },
    {
      "cell_type": "markdown",
      "source": [
        "Finalmente, graficamos:"
      ],
      "metadata": {
        "id": "s4Va3NZrdrB2"
      }
    },
    {
      "cell_type": "code",
      "source": [
        "plt.scatter(x,y)\n",
        "plt.plot(x,y2,\"r\")\n",
        "plt.show()"
      ],
      "metadata": {
        "id": "lC5uX_Q0XJhl",
        "colab": {
          "base_uri": "https://localhost:8080/",
          "height": 432
        },
        "outputId": "f9f8771b-cc57-4bd6-b6d2-b6ac83202369"
      },
      "execution_count": 10,
      "outputs": [
        {
          "output_type": "display_data",
          "data": {
            "text/plain": [
              "<Figure size 640x480 with 1 Axes>"
            ],
            "image/png": "[encoded data removed]"
          },
          "metadata": {}
        }
      ]
    },
    {
      "cell_type": "markdown",
      "source": [
        "Como se puede observar, la línea está ligeramente curveada, dado que es una línea de un modelo de grado 2."
      ],
      "metadata": {
        "id": "jhvJrA9SiyOs"
      }
    }
  ]
}